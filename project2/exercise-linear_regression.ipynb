{
 "cells": [
  {
   "cell_type": "markdown",
   "metadata": {},
   "source": [
    "## 说明\n",
    "\n",
    "请按照填空顺序编号分别完成 参数优化，不同基函数的实现"
   ]
  },
  {
   "cell_type": "code",
   "execution_count": 1,
   "metadata": {
    "execution": {
     "iopub.execute_input": "2024-09-23T12:55:47.025209Z",
     "iopub.status.busy": "2024-09-23T12:55:47.024724Z",
     "iopub.status.idle": "2024-09-23T12:55:47.903881Z",
     "shell.execute_reply": "2024-09-23T12:55:47.902700Z",
     "shell.execute_reply.started": "2024-09-23T12:55:47.025164Z"
    },
    "scrolled": true,
    "tags": []
   },
   "outputs": [],
   "source": [
    "import numpy as np\n",
    "import matplotlib.pyplot as plt\n",
    "import pandas as pd\n",
    "def load_data(filename):\n",
    "    \"\"\"载入数据。\"\"\"\n",
    "    xys = []\n",
    "    with open(filename, 'r') as f:\n",
    "        for line in f:\n",
    "            xys.append(map(float, line.strip().split()))\n",
    "        xs, ys = zip(*xys)\n",
    "        return np.asarray(xs), np.asarray(ys)"
   ]
  },
  {
   "cell_type": "markdown",
   "metadata": {},
   "source": [
    "## 不同的基函数 (basis function)的实现 填空顺序 2\n",
    "\n",
    "请分别在这里实现“多项式基函数”以及“高斯基函数”\n",
    "\n",
    "其中以及训练集的x的范围在0-25之间"
   ]
  },
  {
   "cell_type": "code",
   "execution_count": 2,
   "metadata": {
    "execution": {
     "iopub.execute_input": "2024-09-23T12:55:47.906981Z",
     "iopub.status.busy": "2024-09-23T12:55:47.906023Z",
     "iopub.status.idle": "2024-09-23T12:55:47.915959Z",
     "shell.execute_reply": "2024-09-23T12:55:47.914850Z",
     "shell.execute_reply.started": "2024-09-23T12:55:47.906945Z"
    },
    "scrolled": true
   },
   "outputs": [],
   "source": [
    "def identity_basis(x):\n",
    "    ret = np.expand_dims(x, axis=1)\n",
    "    return ret\n",
    "\n",
    "def multinomial_basis(x, feature_num=5):\n",
    "    '''多项式基函数'''\n",
    "    x = np.expand_dims(x, axis=1) # shape(N, 1)\n",
    "    #==========\n",
    "    #todo '''请实现多项式基函数'''\n",
    "    #==========\n",
    "    # ret = None\n",
    "    feat = []\n",
    "    for i in range(1, feature_num+1):\n",
    "        feat.append(x**i)\n",
    "    ret = np.concatenate(feat, axis=1)\n",
    "    return ret\n",
    "\n",
    "def gaussian_basis(x, feature_num=20):\n",
    "    '''高斯基函数'''\n",
    "    #==========\n",
    "    #todo '''请实现高斯基函数'''\n",
    "    #==========\n",
    "    # ret = None\n",
    "    centers = np.linspace(0, 25, feature_num)\n",
    "    width = 1.0 * (centers[1] - centers[0])\n",
    "    x = np.expand_dims(x, axis=1)\n",
    "    x = np.concatenate([x]*feature_num, axis=1)\n",
    "    \n",
    "    out = (x-centers)/width\n",
    "    ret = np.exp(-0.5 * out ** 2)\n",
    "    return ret"
   ]
  },
  {
   "cell_type": "markdown",
   "metadata": {},
   "source": [
    "## 返回一个训练好的模型 填空顺序 1 用最小二乘法进行模型优化 \n",
    "## 填空顺序 3 用梯度下降进行模型优化\n",
    "> 先完成最小二乘法的优化 (参考书中第二章 2.3中的公式)\n",
    "\n",
    "> 再完成梯度下降的优化   (参考书中第二章 2.3中的公式)\n",
    "\n",
    "在main中利用训练集训练好模型的参数，并且返回一个训练好的模型。\n",
    "\n",
    "计算出一个优化后的w，请分别使用最小二乘法以及梯度下降两种办法优化w"
   ]
  },
  {
   "cell_type": "code",
   "execution_count": 3,
   "metadata": {
    "execution": {
     "iopub.execute_input": "2024-09-23T12:55:47.917873Z",
     "iopub.status.busy": "2024-09-23T12:55:47.917493Z",
     "iopub.status.idle": "2024-09-23T12:55:47.929306Z",
     "shell.execute_reply": "2024-09-23T12:55:47.928207Z",
     "shell.execute_reply.started": "2024-09-23T12:55:47.917828Z"
    },
    "scrolled": true,
    "tags": []
   },
   "outputs": [],
   "source": [
    "def main(x_train, y_train, method='ls'):\n",
    "    \"\"\"\n",
    "    训练模型, 并返回从x到y的映射。\n",
    "    \"\"\"\n",
    "\n",
    "    # basis_func = identity_basis\n",
    "    # basis_func = multinomial_basis\n",
    "    basis_func = gaussian_basis\n",
    "\n",
    "    phi0 = np.expand_dims(np.ones_like(x_train), axis=1)\n",
    "    phi1 = basis_func(x_train)\n",
    "    phi = np.concatenate([phi0, phi1], axis=1)\n",
    "    \n",
    "    \n",
    "    #==========\n",
    "    #todo '''计算出一个优化后的w，请分别使用最小二乘法以及梯度下降两种办法优化w'''\n",
    "    #==========\n",
    "\n",
    "    # phi_max = np.max(phi, axis=0)\n",
    "    # phi = phi / phi_max\n",
    "\n",
    "    # 最小二乘法计算\n",
    "    w_ls = np.linalg.pinv(phi).dot(y_train)\n",
    "\n",
    "    # 梯度下降法计算\n",
    "    def gradient_descent(phi, y, learning_rate=1, iterations=10000):\n",
    "        m, n = phi.shape\n",
    "        w = np.zeros(n)\n",
    "        for i in range(iterations):\n",
    "            predictions = np.dot(phi, w)\n",
    "            errors = predictions - y\n",
    "            gradient = (1/m) * np.dot(phi.T, errors)\n",
    "            w -= learning_rate * gradient\n",
    "        return w\n",
    "\n",
    "    w_gd = gradient_descent(phi, y_train)\n",
    "\n",
    "    if method == 'ls':\n",
    "        w = w_ls\n",
    "    elif method == 'gd':\n",
    "        w = w_gd\n",
    "\n",
    "    \n",
    "    # w /= phi_max\n",
    "    display(w)\n",
    "    def f(x):\n",
    "        phi0 = np.expand_dims(np.ones_like(x), axis=1)\n",
    "        phi1 = basis_func(x)\n",
    "        phi = np.concatenate([phi0, phi1], axis=1)\n",
    "        y = np.dot(phi, w)\n",
    "        return y\n",
    "\n",
    "    return f"
   ]
  },
  {
   "cell_type": "markdown",
   "metadata": {},
   "source": [
    "## 评估结果 \n",
    "> 没有需要填写的代码，但是建议读懂"
   ]
  },
  {
   "cell_type": "code",
   "execution_count": 4,
   "metadata": {
    "execution": {
     "iopub.execute_input": "2024-09-23T12:55:47.931064Z",
     "iopub.status.busy": "2024-09-23T12:55:47.930774Z",
     "iopub.status.idle": "2024-09-23T12:55:48.435827Z",
     "shell.execute_reply": "2024-09-23T12:55:48.434399Z",
     "shell.execute_reply.started": "2024-09-23T12:55:47.931038Z"
    },
    "scrolled": true,
    "tags": []
   },
   "outputs": [
    {
     "name": "stdout",
     "output_type": "stream",
     "text": [
      "(300,)\r\n",
      "(200,)\r\n"
     ]
    },
    {
     "data": {
      "text/plain": [
       "array([  7.76335664, -10.00681511,   5.51152492,  -4.52313826,\n",
       "        -0.72236748,  -5.61759759,   2.12200016,   1.4210192 ,\n",
       "         2.46869559,  -2.60830205,   0.8512471 ,   2.61720438,\n",
       "         6.57860607,   1.57137679,   2.63328187,   0.92596651,\n",
       "         9.76709254,   3.82954301,  10.07396527,  -3.97881618,\n",
       "        16.72574669])"
      ]
     },
     "metadata": {},
     "output_type": "display_data"
    },
    {
     "name": "stdout",
     "output_type": "stream",
     "text": [
      "训练集预测值与真实值的标准差：0.1\r\n",
      "预测值与真实值的标准差：0.1\r\n"
     ]
    },
    {
     "data": {
      "image/png": "[encoded data removed]",
      "text/plain": [
       "<Figure size 640x480 with 1 Axes>"
      ]
     },
     "metadata": {},
     "output_type": "display_data"
    }
   ],
   "source": [
    "def evaluate(ys, ys_pred):\n",
    "    \"\"\"评估模型。\"\"\"\n",
    "    std = np.sqrt(np.mean(np.abs(ys - ys_pred) ** 2))\n",
    "    return std\n",
    "\n",
    "# 程序主入口（建议不要改动以下函数的接口）\n",
    "if __name__ == '__main__':\n",
    "    train_file = 'train.txt'\n",
    "    test_file = 'test.txt'\n",
    "    # 载入数据\n",
    "    x_train, y_train = load_data(train_file)\n",
    "    x_test, y_test = load_data(test_file)\n",
    "    print(x_train.shape)\n",
    "    print(x_test.shape)\n",
    "\n",
    "    # 使用线性回归训练模型，返回一个函数f()使得y = f(x)\n",
    "    f = main(x_train, y_train, 'ls')\n",
    "\n",
    "    y_train_pred = f(x_train)\n",
    "    std = evaluate(y_train, y_train_pred)\n",
    "    print('训练集预测值与真实值的标准差：{:.1f}'.format(std))\n",
    "    \n",
    "    # 计算预测的输出值\n",
    "    y_test_pred = f(x_test)\n",
    "    # 使用测试集评估模型\n",
    "    std = evaluate(y_test, y_test_pred)\n",
    "    print('预测值与真实值的标准差：{:.1f}'.format(std))\n",
    "\n",
    "    #显示结果\n",
    "    plt.plot(x_train, y_train, 'ro', markersize=3)\n",
    "    # plt.plot(x_test, y_test, 'k')\n",
    "    plt.plot(x_test, y_test_pred, 'k')\n",
    "    plt.xlabel('x')\n",
    "    plt.ylabel('y')\n",
    "    plt.title('Linear Regression')\n",
    "    plt.legend(['train', 'test', 'pred'])\n",
    "    plt.show()"
   ]
  },
  {
   "cell_type": "code",
   "execution_count": 5,
   "metadata": {
    "execution": {
     "iopub.execute_input": "2024-09-23T12:55:48.438987Z",
     "iopub.status.busy": "2024-09-23T12:55:48.438479Z",
     "iopub.status.idle": "2024-09-23T12:55:48.888725Z",
     "shell.execute_reply": "2024-09-23T12:55:48.887625Z",
     "shell.execute_reply.started": "2024-09-23T12:55:48.438954Z"
    },
    "scrolled": true,
    "tags": []
   },
   "outputs": [
    {
     "name": "stdout",
     "output_type": "stream",
     "text": [
      "(300,)\r\n",
      "(200,)\r\n"
     ]
    },
    {
     "data": {
      "text/plain": [
       "array([ 9.54642553e+00, -1.09980681e+01,  4.48378751e+00, -4.45728622e+00,\n",
       "       -2.53443767e+00, -5.02684503e+00,  1.24767111e-03,  2.16360322e+00,\n",
       "        2.87148523e-01, -1.84652702e+00, -1.33011229e+00,  3.42532569e+00,\n",
       "        4.23695163e+00,  2.64258505e+00, -6.40623083e-02,  2.36564676e+00,\n",
       "        6.82494301e+00,  5.33224566e+00,  7.21617872e+00, -2.71716355e+00,\n",
       "        1.44165107e+01])"
      ]
     },
     "metadata": {},
     "output_type": "display_data"
    },
    {
     "name": "stdout",
     "output_type": "stream",
     "text": [
      "训练集预测值与真实值的标准差：0.1\r\n",
      "预测值与真实值的标准差：0.1\r\n"
     ]
    },
    {
     "data": {
      "image/png": "[encoded data removed]",
      "text/plain": [
       "<Figure size 640x480 with 1 Axes>"
      ]
     },
     "metadata": {},
     "output_type": "display_data"
    }
   ],
   "source": [
    "# 程序主入口（建议不要改动以下函数的接口）\n",
    "if __name__ == '__main__':\n",
    "    train_file = 'train.txt'\n",
    "    test_file = 'test.txt'\n",
    "    # 载入数据\n",
    "    x_train, y_train = load_data(train_file)\n",
    "    x_test, y_test = load_data(test_file)\n",
    "    print(x_train.shape)\n",
    "    print(x_test.shape)\n",
    "\n",
    "    # 使用线性回归训练模型，返回一个函数f()使得y = f(x)\n",
    "    f = main(x_train, y_train, 'gd')\n",
    "\n",
    "    y_train_pred = f(x_train)\n",
    "    std = evaluate(y_train, y_train_pred)\n",
    "    print('训练集预测值与真实值的标准差：{:.1f}'.format(std))\n",
    "    \n",
    "    # 计算预测的输出值\n",
    "    y_test_pred = f(x_test)\n",
    "    # 使用测试集评估模型\n",
    "    std = evaluate(y_test, y_test_pred)\n",
    "    print('预测值与真实值的标准差：{:.1f}'.format(std))\n",
    "\n",
    "    #显示结果\n",
    "    plt.plot(x_train, y_train, 'ro', markersize=3)\n",
    "    # plt.plot(x_test, y_test, 'k')\n",
    "    plt.plot(x_test, y_test_pred, 'k')\n",
    "    plt.xlabel('x')\n",
    "    plt.ylabel('y')\n",
    "    plt.title('Linear Regression')\n",
    "    plt.legend(['train', 'test', 'pred'])\n",
    "    plt.show()"
   ]
  }
 ],
 "metadata": {
  "kernelspec": {
   "display_name": "Python 3",
   "language": "python",
   "name": "py35-paddle1.2.0"
  },
  "language_info": {
   "codemirror_mode": {
    "name": "ipython",
    "version": 3
   },
   "file_extension": ".py",
   "mimetype": "text/x-python",
   "name": "python",
   "nbconvert_exporter": "python",
   "pygments_lexer": "ipython3",
   "version": "3.7.4"
  },
  "pycharm": {
   "stem_cell": {
    "cell_type": "raw",
    "metadata": {
     "collapsed": false
    },
    "source": []
   }
  }
 },
 "nbformat": 4,
 "nbformat_minor": 4
}
