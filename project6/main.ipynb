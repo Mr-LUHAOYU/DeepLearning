{
 "cells": [
  {
   "cell_type": "markdown",
   "metadata": {},
   "source": [
    "请点击[此处](https://ai.baidu.com/docs#/AIStudio_Project_Notebook/a38e5576)查看本环境基本用法.  <br>\n",
    "Please click [here ](https://ai.baidu.com/docs#/AIStudio_Project_Notebook/a38e5576) for more detailed instructions. "
   ]
  },
  {
   "cell_type": "markdown",
   "metadata": {},
   "source": [
    "\n",
    "\n",
    "# 循环神经网络(RNN)\n",
    "\n",
    "\n",
    "\n",
    "## 问题描述：\n",
    "\n",
    "利用循环神经网络，实现唐诗生成任务。\n",
    "\n",
    "\n",
    "\n",
    "\n",
    "## 数据集: \n",
    "\n",
    "唐诗\n",
    "\n",
    "\n",
    "\n",
    "\n",
    "\n",
    "## 题目要求： \n",
    "\n",
    "补全程序，主要是前面的2个空, 然后生成诗歌的1个空。(tensorflow) [需要补全 对应的 poem_generation_with_RNN-exercise.py 文件中的三处代码]\n",
    "\n",
    "生成诗歌 开头词汇是 “ 日 、 红 、 山 、 夜 、 湖、 海 、 月 。\n",
    "\n",
    "参考文献：\n",
    "\n",
    "​    Xingxing Zhang and Mirella Lapata. 2014. Chinese poetry generation with recurrent neural networks. In Proceedings of the 2014 Conference on EMNLP. Association for Computational Linguistics, October\n",
    "\n",
    "可以参考这篇博客  https://blog.csdn.net/Irving_zhang/article/details/76664998\n",
    "\n"
   ]
  }
 ],
 "metadata": {
  "kernelspec": {
   "display_name": "Python 3",
   "language": "python",
   "name": "py35-paddle1.2.0"
  },
  "language_info": {
   "codemirror_mode": {
    "name": "ipython",
    "version": 3
   },
   "file_extension": ".py",
   "mimetype": "text/x-python",
   "name": "python",
   "nbconvert_exporter": "python",
   "pygments_lexer": "ipython3",
   "version": "3.7.4"
  }
 },
 "nbformat": 4,
 "nbformat_minor": 4
}
